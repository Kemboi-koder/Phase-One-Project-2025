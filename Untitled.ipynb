{
 "cells": [
  {
   "cell_type": "markdown",
   "metadata": {},
   "source": [
    "## Final Project Submission\n",
    "\n",
    "\n",
    "* Student name: Kemboi Bett\n",
    "* Student pace: Full Time Remote\n",
    "\n",
    "* Instructor name: Diana Mongina\n",
    "\n"
   ]
  },
  {
   "cell_type": "markdown",
   "metadata": {},
   "source": [
    "#  Introduction\n",
    "It is said that flying is among the safest and fastest ways to travel despite the number of aviation accidents that have occurred throughout the years. The aviation industry is a lucrative and fast growing sector in transport. That being mentioned, my project aims to use aviation data to identify the risk factors that contribute to accidents and how they relate to specific public and private aircraft carriers to make informed decisions on which aircraft models are best suited for a company trying to venture into the industry.\n"
   ]
  },
  {
   "cell_type": "markdown",
   "metadata": {},
   "source": [
    "#  Project overview\n",
    "In this project using NTSB Aviation data(1962- 2023), the aim is to identify which aircraft carriers are less likely to cause fatal accidents in order to purchase these aircraft to venture into the business. The data will be first reviewed to farmiliarise with the indexes and columns.Next it will be checked for missing values and all unecessary datasets cleared.Computation is done where needed and finally we perfom analysisi with visualizations and provide recommendations and insights.\n"
   ]
  },
  {
   "cell_type": "markdown",
   "metadata": {},
   "source": [
    "# 1. Business Understanding\n",
    "\n",
    "In order to diversify its portfolio, Green Collar Solutions Ltd. Is expanding into new ventures specifically the Aviation industry. The aim of this project is to find out which commercial and public aircrafts are suitable for purchase when entering this venture. The targets include:\n",
    "\n",
    "1. Which aircrafts have the records for the least accidents \n",
    "2. Which aircrafts are resilient to harsh weather conditions/ are equipped to handle emergencies well.\n",
    "3. What risk factors are associated with other aircrafts"
   ]
  },
  {
   "cell_type": "markdown",
   "metadata": {},
   "source": [
    "# Parameters for success\n",
    "Being able to provide insights into the cause of accidents for aircrafts and provide insights into which ones are safe for purchase. Ability to clean data. Ability to make relevant correllations."
   ]
  },
  {
   "cell_type": "code",
   "execution_count": 2,
   "metadata": {},
   "outputs": [],
   "source": [
    "# First import the relevant python libraries.\n",
    "import pandas as pd\n",
    "import numpy as np"
   ]
  },
  {
   "cell_type": "code",
   "execution_count": null,
   "metadata": {},
   "outputs": [],
   "source": []
  }
 ],
 "metadata": {
  "kernelspec": {
   "display_name": "Python 3",
   "language": "python",
   "name": "python3"
  },
  "language_info": {
   "codemirror_mode": {
    "name": "ipython",
    "version": 3
   },
   "file_extension": ".py",
   "mimetype": "text/x-python",
   "name": "python",
   "nbconvert_exporter": "python",
   "pygments_lexer": "ipython3",
   "version": "3.8.5"
  }
 },
 "nbformat": 4,
 "nbformat_minor": 4
}
